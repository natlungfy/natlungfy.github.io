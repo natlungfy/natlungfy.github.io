{
 "cells": [
  {
   "cell_type": "markdown",
   "metadata": {},
   "source": [
    "# Getting, parsing, and training NYT articles to find most similar words"
   ]
  },
  {
   "cell_type": "code",
   "execution_count": 130,
   "metadata": {},
   "outputs": [],
   "source": [
    "# packages for getting and parsing content\n",
    "import os\n",
    "import csv, json\n",
    "import datetime\n",
    "import urllib, requests\n",
    "from time import sleep\n",
    "from bs4 import BeautifulSoup\n",
    "from nytimesarticle import articleAPI\n",
    "from nltk.tokenize import sent_tokenize, word_tokenize\n",
    "from nltk.corpus import stopwords\n",
    "from nltk import pos_tag\n",
    "import string"
   ]
  },
  {
   "cell_type": "code",
   "execution_count": null,
   "metadata": {},
   "outputs": [],
   "source": [
    "# packages for calculating word embeddings and charting\n",
    "from gensim.models import Word2Vec\n",
    "from matplotlib import pyplot\n",
    "import numpy as np\n",
    "import seaborn as sns\n",
    "import pandas as pd\n",
    "import plotly\n",
    "from plotly.graph_objs import Scatter, Layout"
   ]
  },
  {
   "cell_type": "code",
   "execution_count": null,
   "metadata": {},
   "outputs": [],
   "source": [
    "api = articleAPI(key)"
   ]
  },
  {
   "cell_type": "markdown",
   "metadata": {},
   "source": [
    "### Getting & parsing data obtained via the NYT API"
   ]
  },
  {
   "cell_type": "code",
   "execution_count": 75,
   "metadata": {},
   "outputs": [],
   "source": [
    "# Reference: http://dlab.berkeley.edu/blog/scraping-new-york-times-articles-python-tutorial\n",
    "\n",
    "def parse_articles(articles):\n",
    "    news = []\n",
    "    for i in articles['response']['docs']:\n",
    "        dic = {}\n",
    "        dic['id'] = i['_id']\n",
    "        dic['headline'] = i['headline']['main'].encode(\"utf8\")\n",
    "        dic['date'] = i['pub_date'][0:10] # cutting time of day.\n",
    "        if i['snippet'] is not None:\n",
    "            dic['snippet'] = i['snippet'].encode(\"utf8\")\n",
    "        dic['url'] = i['web_url']\n",
    "        dic['word_count'] = i['word_count']\n",
    "        # locations\n",
    "        locations = []\n",
    "        for x in range(0,len(i['keywords'])):\n",
    "            if 'glocations' in i['keywords'][x]['name']:\n",
    "                locations.append(i['keywords'][x]['value'])\n",
    "        dic['locations'] = locations\n",
    "        # subject\n",
    "        subjects = []\n",
    "        for x in range(0,len(i['keywords'])):\n",
    "            if 'subject' in i['keywords'][x]['name']:\n",
    "                subjects.append(i['keywords'][x]['value'])\n",
    "        dic['subjects'] = subjects   \n",
    "        news.append(dic)\n",
    "    return(news) "
   ]
  },
  {
   "cell_type": "code",
   "execution_count": 267,
   "metadata": {},
   "outputs": [],
   "source": [
    "def get_articles(query):\n",
    "    all_articles = []\n",
    "    for i in range(0,11): \n",
    "        articles = api.search(q = query,\n",
    "               fq = \"type_of_material:('News') AND document_type:('article')\",\n",
    "               begin_date = 19950101,\n",
    "               end_date = 19951231,\n",
    "               page = int(i))\n",
    "        print(articles['response']['meta'])\n",
    "        articles = parse_articles(articles)\n",
    "        all_articles = all_articles + articles\n",
    "        sleep(2)\n",
    "    return(all_articles)"
   ]
  },
  {
   "cell_type": "code",
   "execution_count": 265,
   "metadata": {},
   "outputs": [],
   "source": [
    "China_1995 = []"
   ]
  },
  {
   "cell_type": "code",
   "execution_count": 268,
   "metadata": {},
   "outputs": [
    {
     "name": "stdout",
     "output_type": "stream",
     "text": [
      "{'hits': 109, 'offset': 10, 'time': 90}\n",
      "{'hits': 109, 'offset': 20, 'time': 82}\n",
      "{'hits': 109, 'offset': 30, 'time': 166}\n",
      "{'hits': 109, 'offset': 40, 'time': 75}\n",
      "{'hits': 109, 'offset': 50, 'time': 40}\n",
      "{'hits': 109, 'offset': 60, 'time': 61}\n",
      "{'hits': 109, 'offset': 70, 'time': 66}\n",
      "{'hits': 109, 'offset': 80, 'time': 24}\n",
      "{'hits': 109, 'offset': 90, 'time': 17}\n",
      "{'hits': 109, 'offset': 100, 'time': 91}\n"
     ]
    }
   ],
   "source": [
    "China_1995 += get_articles('China')"
   ]
  },
  {
   "cell_type": "code",
   "execution_count": 270,
   "metadata": {},
   "outputs": [
    {
     "data": {
      "text/plain": [
       "109"
      ]
     },
     "execution_count": 270,
     "metadata": {},
     "output_type": "execute_result"
    }
   ],
   "source": [
    "len(China_1995)"
   ]
  },
  {
   "cell_type": "code",
   "execution_count": 271,
   "metadata": {},
   "outputs": [],
   "source": [
    "# saving to CSV\n",
    "keys = China_1995[0].keys()\n",
    "with open('data_1995.csv', 'w') as output_file:\n",
    "    dict_writer = csv.DictWriter(output_file, keys)\n",
    "    dict_writer.writeheader()\n",
    "    dict_writer.writerows(China_1995)"
   ]
  },
  {
   "cell_type": "code",
   "execution_count": 26,
   "metadata": {},
   "outputs": [],
   "source": [
    "# opening the CSV\n",
    "with open('data_2008.csv') as f:\n",
    "    data_2008 = [{k: v for k, v in row.items()}\n",
    "    for row in csv.DictReader(f, skipinitialspace=True)]"
   ]
  },
  {
   "cell_type": "markdown",
   "metadata": {},
   "source": [
    "## Scraping article text from the obtained links"
   ]
  },
  {
   "cell_type": "code",
   "execution_count": 8,
   "metadata": {},
   "outputs": [],
   "source": [
    "def get_content(target_url):\n",
    "    url = target_url\n",
    "    html = requests.get(url).content\n",
    "    soup = BeautifulSoup(html, \"html.parser\")\n",
    "    divs = soup.findAll('div', {'class': 'StoryBodyCompanionColumn'})\n",
    "    full_text = ''\n",
    "    for d in divs:\n",
    "        ps = d.findAll('p')\n",
    "        for p in ps:\n",
    "            full_text += p.text\n",
    "    return full_text"
   ]
  },
  {
   "cell_type": "code",
   "execution_count": 9,
   "metadata": {},
   "outputs": [],
   "source": [
    "# used when article text body doesn't have class \"StoryBodyCompanionColumn, checks instead for <div> with class \"story-body\" \n",
    "def get_content_alt(target_url):\n",
    "    url = target_url\n",
    "    html = requests.get(url).content\n",
    "    soup = BeautifulSoup(html, \"html.parser\")\n",
    "    divs = soup.findAll('div', {'class': 'story-body'})\n",
    "    full_text = ''\n",
    "    for d in divs:\n",
    "        ps = d.findAll('p')\n",
    "        for p in ps:\n",
    "            full_text += p.text\n",
    "    return full_text"
   ]
  },
  {
   "cell_type": "code",
   "execution_count": 248,
   "metadata": {},
   "outputs": [
    {
     "name": "stdout",
     "output_type": "stream",
     "text": [
      "0, 1, 2, 3, 4, 5, 6, 7, 8, 9, 10, 11, 12, 13, 14, 15, 16, 17, 18, 19, 20, 21, 22, 23, 24, 25, 26, 27, 28, 29, 30, 31, 32, 33, 34, 35, 36, 37, 38, 39, 40, 41, 42, 43, 44, 45, 46, 47, 48, 49, 50, 51, 52, 53, 54, 55, 56, 57, 58, 59, 60, 61, 62, 63, 64, 65, 66, 67, 68, 69, 70, 71, 72, 73, 74, 75, 76, 77, 78, 79, 80, 81, 82, 83, 84, 85, 86, 87, 88, 89, 90, 91, 92, 93, 94, 95, 96, 97, 98, 99, 100, 101, 102, 103, 104, 105, 106, 107, 108, 109, 110, 111, 112, 113, 114, 115, 116, 117, 118, 119, 120, 121, 122, 123, 124, 125, 126, 127, 128, 129, 130, 131, 132, 133, 134, 135, 136, 137, 138, 139, 140, 141, 142, 143, 144, 145, 146, 147, 148, 149, 150, 151, 152, 153, 154, 155, 156, 157, 158, 159, 160, 161, 162, 163, 164, 165, 166, 167, 168, 169, 170, 171, 172, 173, 174, 175, 176, 177, 178, 179, 180, 181, 182, 183, 184, 185, 186, 187, 188, 189, 190, 191, 192, 193, 194, 195, 196, 197, 198, 199, 200, 201, 202, 203, 204, 205, 206, 207, 208, 209, 210, 211, 212, 213, 214, 215, 216, 217, 218, 219, 220, 221, 222, 223, 224, 225, 226, 227, 228, 229, 230, 231, 232, 233, 234, 235, 236, 237, 238, 239, 240, 241, 242, 243, 244, 245, 246, 247, 248, 249, 250, 251, 252, 253, 254, 255, 256, 257, 258, 259, 260, 261, "
     ]
    }
   ],
   "source": [
    "text_2005 = ''\n",
    "for idx, c in enumerate(China_2005):\n",
    "    if str(get_content(c['url'])) == '':\n",
    "        text_2005 += str(get_content_alt(c['url']))\n",
    "    else:\n",
    "        text_2005 += str(get_content(c['url']))"
   ]
  },
  {
   "cell_type": "markdown",
   "metadata": {},
   "source": [
    "## Cleaning the text (remove stop words and retaining nouns and adjectives)"
   ]
  },
  {
   "cell_type": "code",
   "execution_count": 125,
   "metadata": {},
   "outputs": [],
   "source": [
    "stop = stopwords.words('english') + list(string.punctuation) + ['’', '—','“']"
   ]
  },
  {
   "cell_type": "code",
   "execution_count": 414,
   "metadata": {},
   "outputs": [
    {
     "name": "stdout",
     "output_type": "stream",
     "text": [
      "7365\n"
     ]
    }
   ],
   "source": [
    "sent_tokenize_list = sent_tokenize(text_1995)\n",
    "print(len(sent_tokenize_list))\n",
    "sentences=[]\n",
    "for s in sent_tokenize_list:\n",
    "    line = [i for i in word_tokenize(s.lower()) if i not in stop]\n",
    "    tagged = pos_tag(line)\n",
    "    line = [word for word,pos in tagged if (pos == 'NN' or pos == 'NNP' or pos == 'NNS' or pos == 'NNPS' or pos == 'JJ' or pos == 'JJR' or pos == 'JJS')]\n",
    "    sentences.append(line)"
   ]
  },
  {
   "cell_type": "markdown",
   "metadata": {},
   "source": [
    "## Train the model with text data"
   ]
  },
  {
   "cell_type": "code",
   "execution_count": 415,
   "metadata": {},
   "outputs": [],
   "source": [
    "# train model using skip-gram\n",
    "model = Word2Vec(sentences, sg=1)\n",
    "# summarize vocabulary\n",
    "words = list(model.wv.vocab)\n",
    "# save model\n",
    "model.save('model_1995.bin')"
   ]
  },
  {
   "cell_type": "markdown",
   "metadata": {},
   "source": [
    "## Translating the vectors into 2D space using t-SNE"
   ]
  },
  {
   "cell_type": "code",
   "execution_count": 419,
   "metadata": {},
   "outputs": [],
   "source": [
    "# Reference: https://medium.com/@aneesha/using-tsne-to-plot-a-subset-of-similar-words-from-word2vec-bb8eeaea6229\n",
    "\n",
    "def display_closestwords_tsnescatterplot(model, word):\n",
    "    \n",
    "    arr = np.empty((1,100), dtype='f')\n",
    "    word_labels = [word]\n",
    "\n",
    "    # get close words\n",
    "    close_words = model.wv.similar_by_word(word, topn=50)\n",
    "    \n",
    "    # add the vector for each of the closest words to the array\n",
    "    arr = np.append(arr, np.array([model[word]]), axis=0)\n",
    "    for wrd_score in close_words:\n",
    "        wrd_vector = model[wrd_score[0]]\n",
    "        word_labels.append(wrd_score[0])\n",
    "        arr = np.append(arr, np.array([wrd_vector]), axis=0)\n",
    "    \n",
    "    # find tsne coords for 2 dimensions\n",
    "    tsne = sklearn.manifold.TSNE(n_components=2, random_state=0)\n",
    "    np.set_printoptions(suppress=True)\n",
    "    Y = tsne.fit_transform(arr)\n",
    "    \n",
    "    x_coords = Y[:, 0]\n",
    "    y_coords = Y[:, 1]\n",
    "    \n",
    "    for label, x, y in zip(word_labels, x_coords, y_coords):\n",
    "        print(label + ', '+ str(x) + ', ' + str(y))\n",
    "    # display scatter plot\n",
    "    pyplot.scatter(x_coords, y_coords)\n",
    "\n",
    "    for label, x, y in zip(word_labels, x_coords, y_coords):\n",
    "        pyplot.annotate(label, xy=(x, y), xytext=(0, 0), textcoords='offset points')\n",
    "    pyplot.xlim(x_coords.min()+50, x_coords.max()+100)\n",
    "    pyplot.ylim(y_coords.min()+50, y_coords.max()+100)\n",
    "    pyplot.show()"
   ]
  },
  {
   "cell_type": "markdown",
   "metadata": {},
   "source": [
    "## Plotting the points onto a scatter plot for visualization"
   ]
  },
  {
   "cell_type": "code",
   "execution_count": 416,
   "metadata": {
    "scrolled": false
   },
   "outputs": [
    {
     "name": "stderr",
     "output_type": "stream",
     "text": [
      "C:\\Users\\lung fuk yu\\Anaconda3\\envs\\cap\\lib\\site-packages\\ipykernel_launcher.py:10: DeprecationWarning:\n",
      "\n",
      "Call to deprecated `__getitem__` (Method will be removed in 4.0.0, use self.wv.__getitem__() instead).\n",
      "\n",
      "C:\\Users\\lung fuk yu\\Anaconda3\\envs\\cap\\lib\\site-packages\\ipykernel_launcher.py:12: DeprecationWarning:\n",
      "\n",
      "Call to deprecated `__getitem__` (Method will be removed in 4.0.0, use self.wv.__getitem__() instead).\n",
      "\n"
     ]
    },
    {
     "name": "stdout",
     "output_type": "stream",
     "text": [
      "china, 14.921868, 67.41624\n",
      "soviet, 52.941437, -17.29783\n",
      "countries, 70.39658, -25.449453\n",
      "union, 36.487125, -3.0461202\n",
      "administration, 64.79201, -2.9560645\n",
      "american, 37.204487, -36.05218\n",
      "investment, 44.67125, -54.883514\n",
      "japanese, 29.362877, -20.154491\n",
      "nuclear, 13.161107, -6.607343\n",
      "policy, 84.23287, -35.64997\n",
      "americans, 58.118137, -40.35777\n",
      "military, 0.83223397, 8.457182\n",
      "nations, 23.845947, -48.184258\n",
      "much, 64.638626, -61.0733\n",
      "russia, -41.641373, -8.869836\n",
      "investors, -2.4635782, -10.422929\n",
      "japan, 19.646172, 8.475215\n",
      "india, 57.595833, 17.951904\n",
      "britain, -21.944542, 16.699879\n",
      "many, -31.205513, 3.2999432\n",
      "power, 11.929328, -36.515022\n",
      "weapons, -15.55376, 2.1130106\n",
      "markets, -8.486224, 25.462122\n",
      "important, -22.012434, -12.995213\n",
      "agreement, -49.50543, 5.7141013\n",
      "pakistan, 14.906288, -64.62706\n",
      "clinton, -30.755833, 30.90601\n",
      "war, 76.157005, 16.3819\n",
      "trade, 42.75846, 47.544655\n",
      "talks, 57.99236, -77.62155\n",
      "market, -39.059494, 17.376823\n",
      "companies, 24.753675, 30.636528\n",
      "free, -8.125321, -26.091965\n",
      "ii, 8.669043, 24.967733\n",
      "mexico, -40.231, 50.840294\n",
      "first, -58.240963, 19.3729\n",
      "growth, -18.228271, -42.93073\n",
      "industry, -50.16501, -26.393805\n",
      "relations, -31.186842, -27.799747\n",
      "foreign, 3.7704756, 43.333553\n",
      "north, 81.34565, -69.70794\n",
      "days, -17.682573, 42.096542\n",
      "top, -71.72718, 7.0499864\n",
      "money, -48.41491, 33.315823\n",
      "last, 0.8092334, -49.56832\n",
      "officials, 37.820732, -78.743126\n",
      "former, 12.12403, -80.67035\n",
      "economy, -35.3891, -49.151047\n",
      "world, -60.751987, -9.641471\n",
      "end, 64.49216, 36.40421\n",
      "peace, -3.5542886, -69.84238\n"
     ]
    },
    {
     "data": {
      "image/png": "[encoded data removed]",
      "text/plain": [
       "<Figure size 432x288 with 1 Axes>"
      ]
     },
     "metadata": {},
     "output_type": "display_data"
    }
   ],
   "source": [
    "display_closestwords_tsnescatterplot(model, 'china')"
   ]
  }
 ],
 "metadata": {
  "anaconda-cloud": {},
  "kernelspec": {
   "display_name": "Python 3",
   "language": "python",
   "name": "python3"
  },
  "language_info": {
   "codemirror_mode": {
    "name": "ipython",
    "version": 3
   },
   "file_extension": ".py",
   "mimetype": "text/x-python",
   "name": "python",
   "nbconvert_exporter": "python",
   "pygments_lexer": "ipython3",
   "version": "3.6.5"
  }
 },
 "nbformat": 4,
 "nbformat_minor": 1
}
